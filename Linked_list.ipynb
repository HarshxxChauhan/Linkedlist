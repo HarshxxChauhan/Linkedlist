{
  "nbformat": 4,
  "nbformat_minor": 0,
  "metadata": {
    "colab": {
      "provenance": []
    },
    "kernelspec": {
      "name": "python3",
      "display_name": "Python 3"
    },
    "language_info": {
      "name": "python"
    }
  },
  "cells": [
    {
      "cell_type": "code",
      "execution_count": 4,
      "metadata": {
        "colab": {
          "base_uri": "https://localhost:8080/"
        },
        "id": "u2GKp2qAggE3",
        "outputId": "36d7574c-0b6e-4995-8a8a-714f3c6c0a3e"
      },
      "outputs": [
        {
          "output_type": "stream",
          "name": "stdout",
          "text": [
            "Mon\n",
            "Tue\n",
            "Wed\n"
          ]
        }
      ],
      "source": [
        "class Node:\n",
        "  def __init__(self, data=None):\n",
        "    self.dataval=data\n",
        "    self.nextval=None\n",
        "class SLinkedlist:\n",
        "  def init (self):\n",
        "    self.headval= None\n",
        "  def printlist(self):\n",
        "    print_val = self.headval\n",
        "    while print_val is not None:\n",
        "      print(print_val.dataval)\n",
        "      print_val = print_val.nextval\n",
        "\n",
        "list = SLinkedlist()\n",
        "list.headval = Node('Mon')\n",
        "e2 = Node(\"Tue\")\n",
        "e3 = Node(\"Wed\")\n",
        "list.headval.nextval = e2\n",
        "e2.nextval = e3\n",
        "list.printlist()"
      ]
    },
    {
      "cell_type": "code",
      "source": [],
      "metadata": {
        "id": "mesRXTAhgttE"
      },
      "execution_count": null,
      "outputs": []
    },
    {
      "cell_type": "code",
      "source": [],
      "metadata": {
        "id": "Z9mIj7-Ygt2b"
      },
      "execution_count": null,
      "outputs": []
    }
  ]
}